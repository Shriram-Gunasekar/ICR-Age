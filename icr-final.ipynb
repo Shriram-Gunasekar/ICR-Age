{
 "cells": [
  {
   "cell_type": "code",
   "execution_count": 1,
   "id": "8aba0214",
   "metadata": {
    "_cell_guid": "b1076dfc-b9ad-4769-8c92-a6c4dae69d19",
    "_uuid": "8f2839f25d086af736a60e9eeb907d3b93b6e0e5",
    "execution": {
     "iopub.execute_input": "2023-05-28T03:36:17.959055Z",
     "iopub.status.busy": "2023-05-28T03:36:17.958239Z",
     "iopub.status.idle": "2023-05-28T03:36:17.972356Z",
     "shell.execute_reply": "2023-05-28T03:36:17.971215Z"
    },
    "papermill": {
     "duration": 0.026212,
     "end_time": "2023-05-28T03:36:17.974873",
     "exception": false,
     "start_time": "2023-05-28T03:36:17.948661",
     "status": "completed"
    },
    "tags": []
   },
   "outputs": [
    {
     "name": "stdout",
     "output_type": "stream",
     "text": [
      "/kaggle/input/icr-identify-age-related-conditions/sample_submission.csv\n",
      "/kaggle/input/icr-identify-age-related-conditions/greeks.csv\n",
      "/kaggle/input/icr-identify-age-related-conditions/train.csv\n",
      "/kaggle/input/icr-identify-age-related-conditions/test.csv\n"
     ]
    }
   ],
   "source": [
    "# This Python 3 environment comes with many helpful analytics libraries installed\n",
    "# It is defined by the kaggle/python Docker image: https://github.com/kaggle/docker-python\n",
    "\n",
    "# Input data files are available in the read-only \"../input/\" directory\n",
    "# For example, running this (by clicking run or pressing Shift+Enter) will list all files under the input directory\n",
    "\n",
    "import os\n",
    "for dirname, _, filenames in os.walk('/kaggle/input'):\n",
    "    for filename in filenames:\n",
    "        print(os.path.join(dirname, filename))\n",
    "\n",
    "# You can write up to 20GB to the current directory (/kaggle/working/) that gets preserved as output when you create a version using \"Save & Run All\" \n",
    "# You can also write temporary files to /kaggle/temp/, but they won't be saved outside of the current session"
   ]
  },
  {
   "cell_type": "markdown",
   "id": "72eee601",
   "metadata": {
    "papermill": {
     "duration": 0.006157,
     "end_time": "2023-05-28T03:36:17.987934",
     "exception": false,
     "start_time": "2023-05-28T03:36:17.981777",
     "status": "completed"
    },
    "tags": []
   },
   "source": [
    "# Necessary Imports"
   ]
  },
  {
   "cell_type": "code",
   "execution_count": 2,
   "id": "9b6e5d1e",
   "metadata": {
    "execution": {
     "iopub.execute_input": "2023-05-28T03:36:18.003360Z",
     "iopub.status.busy": "2023-05-28T03:36:18.002863Z",
     "iopub.status.idle": "2023-05-28T03:36:29.152688Z",
     "shell.execute_reply": "2023-05-28T03:36:29.151405Z"
    },
    "papermill": {
     "duration": 11.161295,
     "end_time": "2023-05-28T03:36:29.155565",
     "exception": false,
     "start_time": "2023-05-28T03:36:17.994270",
     "status": "completed"
    },
    "tags": []
   },
   "outputs": [
    {
     "name": "stderr",
     "output_type": "stream",
     "text": [
      "/opt/conda/lib/python3.10/site-packages/scipy/__init__.py:146: UserWarning: A NumPy version >=1.16.5 and <1.23.0 is required for this version of SciPy (detected version 1.23.5\n",
      "  warnings.warn(f\"A NumPy version >={np_minversion} and <{np_maxversion}\"\n"
     ]
    }
   ],
   "source": [
    "# General Packages\n",
    "\n",
    "import numpy as np\n",
    "import pandas as pd\n",
    "import matplotlib.pyplot as plt\n",
    "import seaborn as sns\n",
    "import tensorflow as tf\n",
    "\n",
    "# Preprocessing And Analysis\n",
    "\n",
    "from sklearn.impute import SimpleImputer\n",
    "from sklearn.preprocessing import RobustScaler, OneHotEncoder\n",
    "from sklearn.decomposition import PCA\n",
    "from sklearn.manifold import TSNE\n",
    "\n",
    "# Classifiers\n",
    "\n",
    "from sklearn.neighbors import KNeighborsClassifier\n",
    "from sklearn.svm import SVC\n",
    "from sklearn.linear_model import LogisticRegression\n",
    "from sklearn.ensemble import RandomForestClassifier\n",
    "from sklearn.tree import DecisionTreeClassifier\n",
    "\n",
    "from xgboost import XGBClassifier\n",
    "\n",
    "# Model Selection\n",
    "\n",
    "from sklearn.model_selection import train_test_split\n",
    "\n",
    "# Extra\n",
    "\n",
    "from tensorflow.nn import softmax\n",
    "\n",
    "# Pipelines\n",
    "\n",
    "from sklearn.pipeline import Pipeline"
   ]
  },
  {
   "cell_type": "markdown",
   "id": "36afe71b",
   "metadata": {
    "papermill": {
     "duration": 0.006126,
     "end_time": "2023-05-28T03:36:29.168484",
     "exception": false,
     "start_time": "2023-05-28T03:36:29.162358",
     "status": "completed"
    },
    "tags": []
   },
   "source": [
    "# Loading Data"
   ]
  },
  {
   "cell_type": "code",
   "execution_count": 3,
   "id": "30bdfff9",
   "metadata": {
    "execution": {
     "iopub.execute_input": "2023-05-28T03:36:29.184134Z",
     "iopub.status.busy": "2023-05-28T03:36:29.183209Z",
     "iopub.status.idle": "2023-05-28T03:36:29.238421Z",
     "shell.execute_reply": "2023-05-28T03:36:29.237126Z"
    },
    "papermill": {
     "duration": 0.066719,
     "end_time": "2023-05-28T03:36:29.241571",
     "exception": false,
     "start_time": "2023-05-28T03:36:29.174852",
     "status": "completed"
    },
    "tags": []
   },
   "outputs": [],
   "source": [
    "train = pd.read_csv('/kaggle/input/icr-identify-age-related-conditions/train.csv')\n",
    "test = pd.read_csv('/kaggle/input/icr-identify-age-related-conditions/test.csv')\n",
    "sample = pd.read_csv('/kaggle/input/icr-identify-age-related-conditions/sample_submission.csv')\n",
    "greeks = pd.read_csv('/kaggle/input/icr-identify-age-related-conditions/sample_submission.csv')"
   ]
  },
  {
   "cell_type": "markdown",
   "id": "fc00d41d",
   "metadata": {
    "papermill": {
     "duration": 0.006615,
     "end_time": "2023-05-28T03:36:29.254883",
     "exception": false,
     "start_time": "2023-05-28T03:36:29.248268",
     "status": "completed"
    },
    "tags": []
   },
   "source": [
    "# Preliminary Analysis"
   ]
  },
  {
   "cell_type": "code",
   "execution_count": 4,
   "id": "2f3e3072",
   "metadata": {
    "execution": {
     "iopub.execute_input": "2023-05-28T03:36:29.271744Z",
     "iopub.status.busy": "2023-05-28T03:36:29.270417Z",
     "iopub.status.idle": "2023-05-28T03:36:29.279803Z",
     "shell.execute_reply": "2023-05-28T03:36:29.278647Z"
    },
    "papermill": {
     "duration": 0.020037,
     "end_time": "2023-05-28T03:36:29.282160",
     "exception": false,
     "start_time": "2023-05-28T03:36:29.262123",
     "status": "completed"
    },
    "tags": []
   },
   "outputs": [
    {
     "data": {
      "text/plain": [
       "Index(['Id', 'AB', 'AF', 'AH', 'AM', 'AR', 'AX', 'AY', 'AZ', 'BC', 'BD ', 'BN',\n",
       "       'BP', 'BQ', 'BR', 'BZ', 'CB', 'CC', 'CD ', 'CF', 'CH', 'CL', 'CR', 'CS',\n",
       "       'CU', 'CW ', 'DA', 'DE', 'DF', 'DH', 'DI', 'DL', 'DN', 'DU', 'DV', 'DY',\n",
       "       'EB', 'EE', 'EG', 'EH', 'EJ', 'EL', 'EP', 'EU', 'FC', 'FD ', 'FE', 'FI',\n",
       "       'FL', 'FR', 'FS', 'GB', 'GE', 'GF', 'GH', 'GI', 'GL', 'Class'],\n",
       "      dtype='object')"
      ]
     },
     "execution_count": 4,
     "metadata": {},
     "output_type": "execute_result"
    }
   ],
   "source": [
    "train.columns"
   ]
  },
  {
   "cell_type": "code",
   "execution_count": 5,
   "id": "9a70c3c6",
   "metadata": {
    "execution": {
     "iopub.execute_input": "2023-05-28T03:36:29.299193Z",
     "iopub.status.busy": "2023-05-28T03:36:29.298313Z",
     "iopub.status.idle": "2023-05-28T03:36:29.334430Z",
     "shell.execute_reply": "2023-05-28T03:36:29.333179Z"
    },
    "papermill": {
     "duration": 0.048571,
     "end_time": "2023-05-28T03:36:29.337462",
     "exception": false,
     "start_time": "2023-05-28T03:36:29.288891",
     "status": "completed"
    },
    "tags": []
   },
   "outputs": [
    {
     "name": "stdout",
     "output_type": "stream",
     "text": [
      "<class 'pandas.core.frame.DataFrame'>\n",
      "RangeIndex: 617 entries, 0 to 616\n",
      "Data columns (total 58 columns):\n",
      " #   Column  Non-Null Count  Dtype  \n",
      "---  ------  --------------  -----  \n",
      " 0   Id      617 non-null    object \n",
      " 1   AB      617 non-null    float64\n",
      " 2   AF      617 non-null    float64\n",
      " 3   AH      617 non-null    float64\n",
      " 4   AM      617 non-null    float64\n",
      " 5   AR      617 non-null    float64\n",
      " 6   AX      617 non-null    float64\n",
      " 7   AY      617 non-null    float64\n",
      " 8   AZ      617 non-null    float64\n",
      " 9   BC      617 non-null    float64\n",
      " 10  BD      617 non-null    float64\n",
      " 11  BN      617 non-null    float64\n",
      " 12  BP      617 non-null    float64\n",
      " 13  BQ      557 non-null    float64\n",
      " 14  BR      617 non-null    float64\n",
      " 15  BZ      617 non-null    float64\n",
      " 16  CB      615 non-null    float64\n",
      " 17  CC      614 non-null    float64\n",
      " 18  CD      617 non-null    float64\n",
      " 19  CF      617 non-null    float64\n",
      " 20  CH      617 non-null    float64\n",
      " 21  CL      617 non-null    float64\n",
      " 22  CR      617 non-null    float64\n",
      " 23  CS      617 non-null    float64\n",
      " 24  CU      617 non-null    float64\n",
      " 25  CW      617 non-null    float64\n",
      " 26  DA      617 non-null    float64\n",
      " 27  DE      617 non-null    float64\n",
      " 28  DF      617 non-null    float64\n",
      " 29  DH      617 non-null    float64\n",
      " 30  DI      617 non-null    float64\n",
      " 31  DL      617 non-null    float64\n",
      " 32  DN      617 non-null    float64\n",
      " 33  DU      616 non-null    float64\n",
      " 34  DV      617 non-null    float64\n",
      " 35  DY      617 non-null    float64\n",
      " 36  EB      617 non-null    float64\n",
      " 37  EE      617 non-null    float64\n",
      " 38  EG      617 non-null    float64\n",
      " 39  EH      617 non-null    float64\n",
      " 40  EJ      617 non-null    object \n",
      " 41  EL      557 non-null    float64\n",
      " 42  EP      617 non-null    float64\n",
      " 43  EU      617 non-null    float64\n",
      " 44  FC      616 non-null    float64\n",
      " 45  FD      617 non-null    float64\n",
      " 46  FE      617 non-null    float64\n",
      " 47  FI      617 non-null    float64\n",
      " 48  FL      616 non-null    float64\n",
      " 49  FR      617 non-null    float64\n",
      " 50  FS      615 non-null    float64\n",
      " 51  GB      617 non-null    float64\n",
      " 52  GE      617 non-null    float64\n",
      " 53  GF      617 non-null    float64\n",
      " 54  GH      617 non-null    float64\n",
      " 55  GI      617 non-null    float64\n",
      " 56  GL      616 non-null    float64\n",
      " 57  Class   617 non-null    int64  \n",
      "dtypes: float64(55), int64(1), object(2)\n",
      "memory usage: 279.7+ KB\n"
     ]
    }
   ],
   "source": [
    "train.info()"
   ]
  },
  {
   "cell_type": "markdown",
   "id": "1dff862d",
   "metadata": {
    "papermill": {
     "duration": 0.006595,
     "end_time": "2023-05-28T03:36:29.350914",
     "exception": false,
     "start_time": "2023-05-28T03:36:29.344319",
     "status": "completed"
    },
    "tags": []
   },
   "source": [
    "# Preprocessing"
   ]
  },
  {
   "cell_type": "code",
   "execution_count": 6,
   "id": "1fad290e",
   "metadata": {
    "execution": {
     "iopub.execute_input": "2023-05-28T03:36:29.366773Z",
     "iopub.status.busy": "2023-05-28T03:36:29.365879Z",
     "iopub.status.idle": "2023-05-28T03:36:29.377345Z",
     "shell.execute_reply": "2023-05-28T03:36:29.376182Z"
    },
    "papermill": {
     "duration": 0.022504,
     "end_time": "2023-05-28T03:36:29.380026",
     "exception": false,
     "start_time": "2023-05-28T03:36:29.357522",
     "status": "completed"
    },
    "tags": []
   },
   "outputs": [],
   "source": [
    "X = train.drop(['Class','Id'],axis=1)\n",
    "X['EJ'].replace(to_replace=['A','B'],value=[0,1],inplace=True)\n",
    "X = X.astype(float)\n",
    "y = train['Class']"
   ]
  },
  {
   "cell_type": "code",
   "execution_count": 7,
   "id": "8c363afe",
   "metadata": {
    "execution": {
     "iopub.execute_input": "2023-05-28T03:36:29.396069Z",
     "iopub.status.busy": "2023-05-28T03:36:29.395574Z",
     "iopub.status.idle": "2023-05-28T03:36:29.403819Z",
     "shell.execute_reply": "2023-05-28T03:36:29.402604Z"
    },
    "papermill": {
     "duration": 0.019105,
     "end_time": "2023-05-28T03:36:29.406030",
     "exception": false,
     "start_time": "2023-05-28T03:36:29.386925",
     "status": "completed"
    },
    "tags": []
   },
   "outputs": [],
   "source": [
    "test_id = test['Id']\n",
    "test = test.drop(['Id'],axis=1)\n",
    "test['EJ'].replace(to_replace=['A','B'],value=[0,1],inplace=True)\n",
    "test = test.astype(float)"
   ]
  },
  {
   "cell_type": "code",
   "execution_count": 8,
   "id": "bd957097",
   "metadata": {
    "execution": {
     "iopub.execute_input": "2023-05-28T03:36:29.421959Z",
     "iopub.status.busy": "2023-05-28T03:36:29.421064Z",
     "iopub.status.idle": "2023-05-28T03:36:29.436771Z",
     "shell.execute_reply": "2023-05-28T03:36:29.435611Z"
    },
    "papermill": {
     "duration": 0.0266,
     "end_time": "2023-05-28T03:36:29.439478",
     "exception": false,
     "start_time": "2023-05-28T03:36:29.412878",
     "status": "completed"
    },
    "tags": []
   },
   "outputs": [],
   "source": [
    "imputer = SimpleImputer(missing_values=np.nan,strategy='mean')\n",
    "imputer.set_output(transform='pandas')\n",
    "X = imputer.fit_transform(X)\n",
    "test = imputer.transform(test)"
   ]
  },
  {
   "cell_type": "markdown",
   "id": "990f8cbd",
   "metadata": {
    "papermill": {
     "duration": 0.006795,
     "end_time": "2023-05-28T03:36:29.453108",
     "exception": false,
     "start_time": "2023-05-28T03:36:29.446313",
     "status": "completed"
    },
    "tags": []
   },
   "source": [
    "# Corr Heatmap"
   ]
  },
  {
   "cell_type": "code",
   "execution_count": 9,
   "id": "02e14145",
   "metadata": {
    "execution": {
     "iopub.execute_input": "2023-05-28T03:36:29.469711Z",
     "iopub.status.busy": "2023-05-28T03:36:29.468828Z",
     "iopub.status.idle": "2023-05-28T03:36:29.992076Z",
     "shell.execute_reply": "2023-05-28T03:36:29.990828Z"
    },
    "papermill": {
     "duration": 0.534502,
     "end_time": "2023-05-28T03:36:29.994375",
     "exception": false,
     "start_time": "2023-05-28T03:36:29.459873",
     "status": "completed"
    },
    "tags": []
   },
   "outputs": [
    {
     "data": {
      "text/plain": [
       "<AxesSubplot: >"
      ]
     },
     "execution_count": 9,
     "metadata": {},
     "output_type": "execute_result"
    },
    {
     "data": {
      "image/png": "[encoded data removed]",
      "text/plain": [
       "<Figure size 640x480 with 2 Axes>"
      ]
     },
     "metadata": {},
     "output_type": "display_data"
    }
   ],
   "source": [
    "sns.heatmap(X.corr())"
   ]
  },
  {
   "cell_type": "markdown",
   "id": "f2803c31",
   "metadata": {
    "papermill": {
     "duration": 0.007884,
     "end_time": "2023-05-28T03:36:30.010041",
     "exception": false,
     "start_time": "2023-05-28T03:36:30.002157",
     "status": "completed"
    },
    "tags": []
   },
   "source": [
    "# PCA"
   ]
  },
  {
   "cell_type": "code",
   "execution_count": 10,
   "id": "6b7bc087",
   "metadata": {
    "execution": {
     "iopub.execute_input": "2023-05-28T03:36:30.027453Z",
     "iopub.status.busy": "2023-05-28T03:36:30.026573Z",
     "iopub.status.idle": "2023-05-28T03:36:30.057586Z",
     "shell.execute_reply": "2023-05-28T03:36:30.056367Z"
    },
    "papermill": {
     "duration": 0.043349,
     "end_time": "2023-05-28T03:36:30.060891",
     "exception": false,
     "start_time": "2023-05-28T03:36:30.017542",
     "status": "completed"
    },
    "tags": []
   },
   "outputs": [
    {
     "data": {
      "text/plain": [
       "array([64., 22., 10.,  2.,  1.,  1.,  0.,  0.,  0.,  0.,  0.,  0.,  0.,\n",
       "        0.,  0.,  0.,  0.,  0.,  0.,  0.,  0.,  0.,  0.,  0.,  0.,  0.,\n",
       "        0.,  0.,  0.,  0.,  0.,  0.,  0.,  0.,  0.,  0.,  0.,  0.,  0.,\n",
       "        0.,  0.,  0.,  0.,  0.,  0.,  0.,  0.,  0.,  0.,  0.,  0.,  0.,\n",
       "        0.,  0.,  0.,  0.])"
      ]
     },
     "execution_count": 10,
     "metadata": {},
     "output_type": "execute_result"
    }
   ],
   "source": [
    "pca = PCA()\n",
    "pca.fit(X)\n",
    "pca.explained_variance_ratio_.round(2) * 100"
   ]
  },
  {
   "cell_type": "markdown",
   "id": "5dbc7d70",
   "metadata": {
    "papermill": {
     "duration": 0.012177,
     "end_time": "2023-05-28T03:36:30.085634",
     "exception": false,
     "start_time": "2023-05-28T03:36:30.073457",
     "status": "completed"
    },
    "tags": []
   },
   "source": [
    "# Model Selection And Validation"
   ]
  },
  {
   "cell_type": "code",
   "execution_count": 11,
   "id": "d4ae0634",
   "metadata": {
    "execution": {
     "iopub.execute_input": "2023-05-28T03:36:30.113087Z",
     "iopub.status.busy": "2023-05-28T03:36:30.112381Z",
     "iopub.status.idle": "2023-05-28T03:36:30.122081Z",
     "shell.execute_reply": "2023-05-28T03:36:30.120828Z"
    },
    "papermill": {
     "duration": 0.027057,
     "end_time": "2023-05-28T03:36:30.125271",
     "exception": false,
     "start_time": "2023-05-28T03:36:30.098214",
     "status": "completed"
    },
    "tags": []
   },
   "outputs": [],
   "source": [
    "X_train, X_test, y_train, y_test = train_test_split(X,y,test_size=0.2,shuffle=True)"
   ]
  },
  {
   "cell_type": "markdown",
   "id": "70d1b7fc",
   "metadata": {
    "papermill": {
     "duration": 0.0123,
     "end_time": "2023-05-28T03:36:30.149790",
     "exception": false,
     "start_time": "2023-05-28T03:36:30.137490",
     "status": "completed"
    },
    "tags": []
   },
   "source": [
    "# Classifiers"
   ]
  },
  {
   "cell_type": "code",
   "execution_count": 12,
   "id": "e6bff76f",
   "metadata": {
    "execution": {
     "iopub.execute_input": "2023-05-28T03:36:30.176178Z",
     "iopub.status.busy": "2023-05-28T03:36:30.175712Z",
     "iopub.status.idle": "2023-05-28T03:36:30.181547Z",
     "shell.execute_reply": "2023-05-28T03:36:30.180238Z"
    },
    "papermill": {
     "duration": 0.021305,
     "end_time": "2023-05-28T03:36:30.184085",
     "exception": false,
     "start_time": "2023-05-28T03:36:30.162780",
     "status": "completed"
    },
    "tags": []
   },
   "outputs": [],
   "source": [
    "logreg = LogisticRegression()\n",
    "rfc = RandomForestClassifier()\n",
    "dtree = DecisionTreeClassifier()\n",
    "svc = SVC(probability=True)\n",
    "knn = KNeighborsClassifier()"
   ]
  },
  {
   "cell_type": "code",
   "execution_count": 13,
   "id": "10117c0f",
   "metadata": {
    "execution": {
     "iopub.execute_input": "2023-05-28T03:36:30.201550Z",
     "iopub.status.busy": "2023-05-28T03:36:30.201064Z",
     "iopub.status.idle": "2023-05-28T03:36:30.271853Z",
     "shell.execute_reply": "2023-05-28T03:36:30.270739Z"
    },
    "papermill": {
     "duration": 0.085839,
     "end_time": "2023-05-28T03:36:30.277637",
     "exception": false,
     "start_time": "2023-05-28T03:36:30.191798",
     "status": "completed"
    },
    "tags": []
   },
   "outputs": [
    {
     "name": "stdout",
     "output_type": "stream",
     "text": [
      "0.8539553752535497 0.9032258064516129\n"
     ]
    },
    {
     "name": "stderr",
     "output_type": "stream",
     "text": [
      "/opt/conda/lib/python3.10/site-packages/sklearn/linear_model/_logistic.py:458: ConvergenceWarning: lbfgs failed to converge (status=1):\n",
      "STOP: TOTAL NO. of ITERATIONS REACHED LIMIT.\n",
      "\n",
      "Increase the number of iterations (max_iter) or scale the data as shown in:\n",
      "    https://scikit-learn.org/stable/modules/preprocessing.html\n",
      "Please also refer to the documentation for alternative solver options:\n",
      "    https://scikit-learn.org/stable/modules/linear_model.html#logistic-regression\n",
      "  n_iter_i = _check_optimize_result(\n"
     ]
    }
   ],
   "source": [
    "logreg.fit(X_train,y_train)\n",
    "print(logreg.score(X_train,y_train),logreg.score(X_test,y_test))"
   ]
  },
  {
   "cell_type": "code",
   "execution_count": 14,
   "id": "da987176",
   "metadata": {
    "execution": {
     "iopub.execute_input": "2023-05-28T03:36:30.306367Z",
     "iopub.status.busy": "2023-05-28T03:36:30.305683Z",
     "iopub.status.idle": "2023-05-28T03:36:30.686121Z",
     "shell.execute_reply": "2023-05-28T03:36:30.684940Z"
    },
    "papermill": {
     "duration": 0.398166,
     "end_time": "2023-05-28T03:36:30.688495",
     "exception": false,
     "start_time": "2023-05-28T03:36:30.290329",
     "status": "completed"
    },
    "tags": []
   },
   "outputs": [
    {
     "data": {
      "text/plain": [
       "0.9112903225806451"
      ]
     },
     "execution_count": 14,
     "metadata": {},
     "output_type": "execute_result"
    }
   ],
   "source": [
    "rfc.fit(X_train,y_train)\n",
    "rfc.score(X_test,y_test)"
   ]
  },
  {
   "cell_type": "code",
   "execution_count": 15,
   "id": "f0a379fd",
   "metadata": {
    "execution": {
     "iopub.execute_input": "2023-05-28T03:36:30.706406Z",
     "iopub.status.busy": "2023-05-28T03:36:30.705699Z",
     "iopub.status.idle": "2023-05-28T03:36:30.780194Z",
     "shell.execute_reply": "2023-05-28T03:36:30.778877Z"
    },
    "papermill": {
     "duration": 0.086394,
     "end_time": "2023-05-28T03:36:30.782620",
     "exception": false,
     "start_time": "2023-05-28T03:36:30.696226",
     "status": "completed"
    },
    "tags": []
   },
   "outputs": [
    {
     "name": "stdout",
     "output_type": "stream",
     "text": [
      "0.8336713995943205 0.8951612903225806\n"
     ]
    }
   ],
   "source": [
    "svc.fit(X_train,y_train)\n",
    "print(svc.score(X_train,y_train),svc.score(X_test,y_test))"
   ]
  },
  {
   "cell_type": "code",
   "execution_count": 16,
   "id": "b8062bd4",
   "metadata": {
    "execution": {
     "iopub.execute_input": "2023-05-28T03:36:30.801693Z",
     "iopub.status.busy": "2023-05-28T03:36:30.800657Z",
     "iopub.status.idle": "2023-05-28T03:36:30.890536Z",
     "shell.execute_reply": "2023-05-28T03:36:30.889263Z"
    },
    "papermill": {
     "duration": 0.101795,
     "end_time": "2023-05-28T03:36:30.893136",
     "exception": false,
     "start_time": "2023-05-28T03:36:30.791341",
     "status": "completed"
    },
    "tags": []
   },
   "outputs": [
    {
     "name": "stdout",
     "output_type": "stream",
     "text": [
      "0.845841784989858 0.8387096774193549\n"
     ]
    }
   ],
   "source": [
    "knn = KNeighborsClassifier()\n",
    "knn.fit(X_train,y_train)\n",
    "print(knn.score(X_train,y_train),knn.score(X_test,y_test))"
   ]
  },
  {
   "cell_type": "code",
   "execution_count": 17,
   "id": "8cb39c98",
   "metadata": {
    "execution": {
     "iopub.execute_input": "2023-05-28T03:36:30.912134Z",
     "iopub.status.busy": "2023-05-28T03:36:30.911253Z",
     "iopub.status.idle": "2023-05-28T03:36:30.931940Z",
     "shell.execute_reply": "2023-05-28T03:36:30.930816Z"
    },
    "papermill": {
     "duration": 0.033303,
     "end_time": "2023-05-28T03:36:30.934677",
     "exception": false,
     "start_time": "2023-05-28T03:36:30.901374",
     "status": "completed"
    },
    "tags": []
   },
   "outputs": [],
   "source": [
    "answer = rfc.predict_proba(test)"
   ]
  },
  {
   "cell_type": "code",
   "execution_count": 18,
   "id": "4f4ccfc7",
   "metadata": {
    "execution": {
     "iopub.execute_input": "2023-05-28T03:36:30.953976Z",
     "iopub.status.busy": "2023-05-28T03:36:30.952577Z",
     "iopub.status.idle": "2023-05-28T03:36:30.960831Z",
     "shell.execute_reply": "2023-05-28T03:36:30.959650Z"
    },
    "papermill": {
     "duration": 0.02011,
     "end_time": "2023-05-28T03:36:30.963123",
     "exception": false,
     "start_time": "2023-05-28T03:36:30.943013",
     "status": "completed"
    },
    "tags": []
   },
   "outputs": [
    {
     "data": {
      "text/plain": [
       "array([[0.55, 0.45],\n",
       "       [0.55, 0.45],\n",
       "       [0.55, 0.45],\n",
       "       [0.55, 0.45],\n",
       "       [0.55, 0.45]])"
      ]
     },
     "execution_count": 18,
     "metadata": {},
     "output_type": "execute_result"
    }
   ],
   "source": [
    "answer"
   ]
  },
  {
   "cell_type": "code",
   "execution_count": 19,
   "id": "b451664d",
   "metadata": {
    "execution": {
     "iopub.execute_input": "2023-05-28T03:36:30.981614Z",
     "iopub.status.busy": "2023-05-28T03:36:30.981112Z",
     "iopub.status.idle": "2023-05-28T03:36:31.007709Z",
     "shell.execute_reply": "2023-05-28T03:36:31.006527Z"
    },
    "papermill": {
     "duration": 0.038938,
     "end_time": "2023-05-28T03:36:31.010227",
     "exception": false,
     "start_time": "2023-05-28T03:36:30.971289",
     "status": "completed"
    },
    "tags": []
   },
   "outputs": [
    {
     "data": {
      "text/html": [
       "<div>\n",
       "<style scoped>\n",
       "    .dataframe tbody tr th:only-of-type {\n",
       "        vertical-align: middle;\n",
       "    }\n",
       "\n",
       "    .dataframe tbody tr th {\n",
       "        vertical-align: top;\n",
       "    }\n",
       "\n",
       "    .dataframe thead th {\n",
       "        text-align: right;\n",
       "    }\n",
       "</style>\n",
       "<table border=\"1\" class=\"dataframe\">\n",
       "  <thead>\n",
       "    <tr style=\"text-align: right;\">\n",
       "      <th></th>\n",
       "      <th>Id</th>\n",
       "      <th>class_0</th>\n",
       "      <th>class_1</th>\n",
       "    </tr>\n",
       "  </thead>\n",
       "  <tbody>\n",
       "    <tr>\n",
       "      <th>0</th>\n",
       "      <td>00eed32682bb</td>\n",
       "      <td>0.5</td>\n",
       "      <td>0.5</td>\n",
       "    </tr>\n",
       "    <tr>\n",
       "      <th>1</th>\n",
       "      <td>010ebe33f668</td>\n",
       "      <td>0.5</td>\n",
       "      <td>0.5</td>\n",
       "    </tr>\n",
       "    <tr>\n",
       "      <th>2</th>\n",
       "      <td>02fa521e1838</td>\n",
       "      <td>0.5</td>\n",
       "      <td>0.5</td>\n",
       "    </tr>\n",
       "    <tr>\n",
       "      <th>3</th>\n",
       "      <td>040e15f562a2</td>\n",
       "      <td>0.5</td>\n",
       "      <td>0.5</td>\n",
       "    </tr>\n",
       "    <tr>\n",
       "      <th>4</th>\n",
       "      <td>046e85c7cc7f</td>\n",
       "      <td>0.5</td>\n",
       "      <td>0.5</td>\n",
       "    </tr>\n",
       "  </tbody>\n",
       "</table>\n",
       "</div>"
      ],
      "text/plain": [
       "             Id  class_0  class_1\n",
       "0  00eed32682bb      0.5      0.5\n",
       "1  010ebe33f668      0.5      0.5\n",
       "2  02fa521e1838      0.5      0.5\n",
       "3  040e15f562a2      0.5      0.5\n",
       "4  046e85c7cc7f      0.5      0.5"
      ]
     },
     "execution_count": 19,
     "metadata": {},
     "output_type": "execute_result"
    }
   ],
   "source": [
    "sample"
   ]
  },
  {
   "cell_type": "code",
   "execution_count": 20,
   "id": "94663512",
   "metadata": {
    "execution": {
     "iopub.execute_input": "2023-05-28T03:36:31.029238Z",
     "iopub.status.busy": "2023-05-28T03:36:31.028751Z",
     "iopub.status.idle": "2023-05-28T03:36:31.041105Z",
     "shell.execute_reply": "2023-05-28T03:36:31.039869Z"
    },
    "papermill": {
     "duration": 0.025444,
     "end_time": "2023-05-28T03:36:31.043943",
     "exception": false,
     "start_time": "2023-05-28T03:36:31.018499",
     "status": "completed"
    },
    "tags": []
   },
   "outputs": [],
   "source": [
    "sub = pd.DataFrame({'Id':test_id,'class_0': answer[:,0],'class_1': answer[:,1]})\n",
    "sub.to_csv('submission.csv',index=False)"
   ]
  }
 ],
 "metadata": {
  "kernelspec": {
   "display_name": "Python 3",
   "language": "python",
   "name": "python3"
  },
  "language_info": {
   "codemirror_mode": {
    "name": "ipython",
    "version": 3
   },
   "file_extension": ".py",
   "mimetype": "text/x-python",
   "name": "python",
   "nbconvert_exporter": "python",
   "pygments_lexer": "ipython3",
   "version": "3.10.10"
  },
  "papermill": {
   "default_parameters": {},
   "duration": 28.235294,
   "end_time": "2023-05-28T03:36:33.792307",
   "environment_variables": {},
   "exception": null,
   "input_path": "__notebook__.ipynb",
   "output_path": "__notebook__.ipynb",
   "parameters": {},
   "start_time": "2023-05-28T03:36:05.557013",
   "version": "2.4.0"
  }
 },
 "nbformat": 4,
 "nbformat_minor": 5
}
